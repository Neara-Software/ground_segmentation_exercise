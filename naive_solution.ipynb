{
 "cells": [
  {
   "cell_type": "code",
   "execution_count": null,
   "metadata": {},
   "outputs": [],
   "source": [
    "import open3d as o3d\n",
    "import numpy as np\n",
    "import laspy as lp\n",
    "import open3d.visualization as viz\n",
    "import time\n",
    "import matplotlib.pyplot as plt"
   ]
  },
  {
   "cell_type": "code",
   "execution_count": null,
   "metadata": {},
   "outputs": [],
   "source": [
    "# example code on how to read a LAS file\n",
    "las = lp.read('./data/Pole1.las')\n",
    "points = np.vstack((las.x, las.y, las.z)).transpose()\n",
    "\n",
    "pcd = o3d.geometry.PointCloud()\n",
    "pcd.points = o3d.utility.Vector3dVector(points)\n",
    "\n",
    "print(f'sample: {points[0:5]}')\n",
    "print(f'shape: {points.shape}')\n",
    "print(f'min_x = {las.header.x_min}, max_x = {las.header.x_max}')\n",
    "print(f'min_y = {las.header.y_min}, max_y = {las.header.y_max}')\n",
    "print(f'min_z = {las.header.z_min}, max_z = {las.header.z_max}')"
   ]
  },
  {
   "cell_type": "code",
   "execution_count": null,
   "metadata": {},
   "outputs": [],
   "source": [
    "def visualize(geoms, capture_filename=''):\n",
    "    '''\n",
    "        Helper function to run the Open3D visualizer\n",
    "        Usage: \n",
    "\n",
    "        From the pcd variable above, you can call visualize with:\n",
    "        visualize([pcd])\n",
    "\n",
    "\n",
    "        Axis:   x = red\n",
    "                y = green\n",
    "                z = blue\n",
    "    '''\n",
    "    v = viz.Visualizer()\n",
    "    v.create_window()\n",
    "    opt = v.get_render_option()\n",
    "    opt.show_coordinate_frame = True\n",
    "    \n",
    "    for g in geoms:\n",
    "        v.add_geometry(g)\n",
    "    \n",
    "    ctr = v.get_view_control()\n",
    "    # assumes default of 1920x1080 window\n",
    "    # comment out these two lines if they cause display issues\n",
    "    camera_params = o3d.io.read_pinhole_camera_parameters('./camera_trajectory.json')\n",
    "    ctr.convert_from_pinhole_camera_parameters(camera_params)\n",
    "\n",
    "    if capture_filename != '':\n",
    "        time.sleep(1)\n",
    "        v.capture_screen_image(capture_filename, True)\n",
    "    else:\n",
    "        # press \"h\" for help when in the visualizer for the commands\n",
    "        v.run()\n",
    "    v.destroy_window()"
   ]
  },
  {
   "cell_type": "code",
   "execution_count": null,
   "metadata": {},
   "outputs": [],
   "source": [
    "'''\n",
    "####################################\n",
    "    Write your solution here\n",
    "####################################\n",
    "'''\n",
    "def solve(filepath: str) -> list[o3d.geometry.PointCloud]:\n",
    "    las = lp.read(filepath)\n",
    "    points = np.vstack((las.x, las.y, las.z)).transpose()\n",
    "\n",
    "    pcd = o3d.geometry.PointCloud()\n",
    "    pcd.points = o3d.utility.Vector3dVector(points)\n",
    "    \n",
    "    range_z = las.header.z_max - las.header.z_min\n",
    "    threshold = 0.1\n",
    "    z_max_threshold = (range_z * threshold) + las.header.z_min\n",
    "\n",
    "    ground_points_idx = np.transpose(np.where(points[:, 2] <= z_max_threshold))\n",
    "\n",
    "    # RGB, colour everything red first\n",
    "    pcd.paint_uniform_color([1,0,0])\n",
    "\n",
    "    # colour the ground points dark green\n",
    "    ground_points = pcd.select_by_index(ground_points_idx)\n",
    "    ground_points.paint_uniform_color([0.047,0.117,0.050])\n",
    "\n",
    "    return [pcd, ground_points]"
   ]
  },
  {
   "cell_type": "code",
   "execution_count": null,
   "metadata": {},
   "outputs": [],
   "source": [
    "num_samples = 5\n",
    "\n",
    "for n in range(num_samples + 1):\n",
    "    geoms = solve(f'data/Pole{n}.las')\n",
    "    visualize(geoms, f'naive_ground{n}.png')\n"
   ]
  }
 ],
 "metadata": {
  "kernelspec": {
   "display_name": "pole_segmentation_test-Hpb1rNAJ",
   "language": "python",
   "name": "python3"
  },
  "language_info": {
   "codemirror_mode": {
    "name": "ipython",
    "version": 3
   },
   "file_extension": ".py",
   "mimetype": "text/x-python",
   "name": "python",
   "nbconvert_exporter": "python",
   "pygments_lexer": "ipython3",
   "version": "3.9.12"
  },
  "orig_nbformat": 4,
  "vscode": {
   "interpreter": {
    "hash": "0b56d38f8a2649e9a141674c2724283d341add7a96ea3809759f8dfbea88ea7f"
   }
  }
 },
 "nbformat": 4,
 "nbformat_minor": 2
}
